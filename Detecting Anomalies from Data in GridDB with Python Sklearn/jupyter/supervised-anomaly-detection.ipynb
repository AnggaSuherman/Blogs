{
 "cells": [
  {
   "cell_type": "code",
   "execution_count": 1,
   "metadata": {},
   "outputs": [],
   "source": [
    "import math\n",
    "\n",
    "import matplotlib.pyplot as plt\n",
    "import numpy as np\n",
    "import pandas as pd\n",
    "import seaborn as sns\n",
    "from sklearn.ensemble import RandomForestClassifier\n",
    "from sklearn.metrics import classification_report, confusion_matrix\n",
    "from sklearn.model_selection import train_test_split"
    "\n",
    "from utils.helpers.db import get_connection"
   ]
  },
  {
   "cell_type": "code",
   "execution_count": 2,
   "metadata": {},
   "outputs": [],
   "source": [
    "sns.set_style()"
   ]
  },
  {
   "cell_type": "code",
   "execution_count": 3,
   "metadata": {},
   "outputs": [],
   "source": [
    "conn = get_connection()\n",
    "sql_stmt = 'SELECT * FROM http_traffic'\n",
    "http_request_data = pd.read_sql(sql_stmt, conn)"
   ]
  },
  {
   "cell_type": "code",
   "execution_count": 4,
   "metadata": {},
   "outputs": [
    {
     "name": "stdout",
     "output_type": "stream",
     "text": [
      "<class 'pandas.core.frame.DataFrame'>\n",
      "RangeIndex: 567498 entries, 0 to 567497\n",
      "Data columns (total 4 columns):\n",
      " #   Column     Non-Null Count   Dtype  \n",
      "---  ------     --------------   -----  \n",
      " 0   duration   567498 non-null  float64\n",
      " 1   src_bytes  567498 non-null  float64\n",
      " 2   dst_bytes  567498 non-null  float64\n",
      " 3   is_attack  567498 non-null  int64  \n",
      "dtypes: float64(3), int64(1)\n",
      "memory usage: 17.3 MB\n"
     ]
    }
   ],
   "source": [
    "http_request_data.info()"
   ]
  },
  {
   "cell_type": "code",
   "execution_count": 5,
   "metadata": {},
   "outputs": [
    {
     "data": {
      "text/plain": [
       "0    565287\n",
       "1      2211\n",
       "Name: is_attack, dtype: int64"
      ]
     },
     "execution_count": 5,
     "metadata": {},
     "output_type": "execute_result"
    }
   ],
   "source": [
    "# count outliers\n",
    "http_request_data.is_attack.value_counts()"
   ]
  },
  {
   "cell_type": "code",
   "execution_count": 6,
   "metadata": {},
   "outputs": [
    {
     "data": {
      "text/plain": [
       "array([<AxesSubplot:title={'center':'duration'}, xlabel='is_attack'>,\n",
       "       <AxesSubplot:title={'center':'src_bytes'}, xlabel='is_attack'>,\n",
       "       <AxesSubplot:title={'center':'dst_bytes'}, xlabel='is_attack'>],\n",
       "      dtype=object)"
      ]
     },
     "execution_count": 6,
     "metadata": {},
     "output_type": "execute_result"
    },
    {
     "data": {
      "image/png": "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\n",
      "text/plain": [
       "<Figure size 864x576 with 3 Axes>"
      ]
     },
     "metadata": {
      "needs_background": "light"
     },
     "output_type": "display_data"
    }
   ],
   "source": [
    "http_request_data.boxplot(\n",
    "    column=['duration', 'src_bytes', 'dst_bytes'],\n",
    "    by='is_attack',\n",
    "    figsize=(12, 8),\n",
    "    layout=(3, 1)\n",
    ")"
   ]
  },
  {
   "cell_type": "code",
   "execution_count": 7,
   "metadata": {},
   "outputs": [],
   "source": [
    "# Split into training and testing\n",
    "rng = np.random.RandomState(42)\n",
    "\n",
    "feature_cols = ['duration', 'src_bytes', 'dst_bytes']\n",
    "features = http_request_data[feature_cols]\n",
    "labels = http_request_data['is_attack']\n",
    "\n",
    "features_train, features_test, labels_train, labels_test = train_test_split(\n",
    "    features,\n",
    "    labels,\n",
    "    stratify=labels,\n",
    "    test_size=0.05,\n",
    "    random_state=rng\n",
    ")"
   ]
  },
  {
   "cell_type": "code",
   "execution_count": 8,
   "metadata": {},
   "outputs": [],
   "source": [
    "# fit and predict\n",
    "random_forest_clf = RandomForestClassifier(n_jobs=4, random_state=rng)\n",
    "random_forest_clf.fit(features_train, labels_train)\n",
    "labels_pred = random_forest_clf.predict(features_test)"
   ]
  },
  {
   "cell_type": "code",
   "execution_count": 9,
   "metadata": {},
   "outputs": [
    {
     "name": "stdout",
     "output_type": "stream",
     "text": [
      "              precision    recall  f1-score   support\n",
      "\n",
      "           0       1.00      1.00      1.00     28264\n",
      "           1       1.00      1.00      1.00       111\n",
      "\n",
      "    accuracy                           1.00     28375\n",
      "   macro avg       1.00      1.00      1.00     28375\n",
      "weighted avg       1.00      1.00      1.00     28375\n",
      "\n"
     ]
    }
   ],
   "source": [
    "print(classification_report(labels_test, labels_pred))"
   ]
  },
  {
   "cell_type": "code",
   "execution_count": null,
   "metadata": {},
   "outputs": [],
   "source": []
  },
  {
   "cell_type": "code",
   "execution_count": 10,
   "metadata": {},
   "outputs": [
    {
     "name": "stdout",
     "output_type": "stream",
     "text": [
      "[[28264     0]\n",
      " [    0   111]]\n"
     ]
    }
   ],
   "source": [
    "print(confusion_matrix(labels_test, labels_pred))"
   ]
  }
 ],
 "metadata": {
  "kernelspec": {
   "display_name": "Python 3",
   "language": "python",
   "name": "python3"
  },
  "language_info": {
   "codemirror_mode": {
    "name": "ipython",
    "version": 3
   },
   "file_extension": ".py",
   "mimetype": "text/x-python",
   "name": "python",
   "nbconvert_exporter": "python",
   "pygments_lexer": "ipython3",
   "version": "3.8.6"
  }
 },
 "nbformat": 4,
 "nbformat_minor": 4
}
